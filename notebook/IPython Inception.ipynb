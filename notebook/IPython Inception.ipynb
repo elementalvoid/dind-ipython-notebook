{
 "metadata": {
  "name": "IPython Inception"
 },
 "nbformat": 3,
 "nbformat_minor": 0,
 "worksheets": [
  {
   "cells": [
    {
     "cell_type": "code",
     "collapsed": false,
     "input": "import docker\nclient = docker.Client(base_url='unix://var/run/docker.sock', version='1.11', timeout=10)\nclient.pull('crosbymichael/dockerui', tag='latest')\ndockerui = client.create_container('crosbymichael/dockerui:latest', ports=[9000], volumes=['/var/run/docker.sock'])\nclient.start(dockerui, port_bindings={9000: 9000}, binds={'/var/run/docker.sock':'/var/run/docker.sock'}, privileged=True)",
     "language": "python",
     "metadata": {},
     "outputs": []
    },
    {
     "cell_type": "code",
     "collapsed": false,
     "input": "client.pull('busybox', tag='latest')\nhello = client.create_container('busybox:latest', command='/bin/sh -c \"while true; do echo -n Hello! ; date; sleep 1; done\"')\nclient.start(hello)",
     "language": "python",
     "metadata": {},
     "outputs": []
    },
    {
     "cell_type": "code",
     "collapsed": false,
     "input": "import time\ntime.sleep(2)\nprint client.logs(hello)",
     "language": "python",
     "metadata": {},
     "outputs": []
    },
    {
     "cell_type": "code",
     "collapsed": false,
     "input": "time.sleep(2)\nprint client.logs(hello)",
     "language": "python",
     "metadata": {},
     "outputs": []
    },
    {
     "cell_type": "code",
     "collapsed": false,
     "input": "client.kill(hello)",
     "language": "python",
     "metadata": {},
     "outputs": []
    }
   ],
   "metadata": {}
  }
 ]
}