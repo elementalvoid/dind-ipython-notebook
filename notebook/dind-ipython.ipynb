{
 "metadata": {
  "name": "DockerPy Inception"
 },
 "nbformat": 3,
 "nbformat_minor": 0,
 "worksheets": [
  {
   "cells": [
    {
     "cell_type": "code",
     "collapsed": false,
     "input": "import docker\nclient = docker.Client(base_url='unix://var/run/docker.sock', version='1.11', timeout=10)\nclient.pull('crosbymichael/dockerui', tag='latest')\ndockerui = client.create_container('crosbymichael/dockerui:latest', ports=[9000], volumes=['/var/run/docker.sock'])\nclient.start(dockerui, port_bindings={9000: 9000}, binds={'/var/run/docker.sock':'/var/run/docker.sock'}, privileged=True)",
     "language": "python",
     "metadata": {},
     "outputs": []
    },
    {
     "cell_type": "code",
     "collapsed": false,
     "input": "import socket\nthis_host = socket.gethostname()\ncontainers = docker.Client(base_url='unix://var/run/docker.sock-parent', version='1.11', timeout=10).containers()\ndockerui_port = -1\nfor container in containers:\n    if container['Id'].startswith(this_host):\n        for port in container['Ports']:\n            if port['PrivatePort'] == 9000:\n                dockerui_port = port['PublicPort']\nprint 'DockerUI is here: http://dockernotebook.com:%d' % dockerui_port",
     "language": "python",
     "metadata": {},
     "outputs": []
    }
   ],
   "metadata": {}
  }
 ]
}
